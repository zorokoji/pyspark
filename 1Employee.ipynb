{
  "nbformat": 4,
  "nbformat_minor": 0,
  "metadata": {
    "colab": {
      "provenance": []
    },
    "kernelspec": {
      "name": "python3",
      "display_name": "Python 3"
    },
    "language_info": {
      "name": "python"
    }
  },
  "cells": [
    {
      "cell_type": "markdown",
      "source": [
        "q.1\n"
      ],
      "metadata": {
        "id": "hRpONF0sbry2"
      }
    },
    {
      "cell_type": "code",
      "execution_count": 48,
      "metadata": {
        "id": "pO3pstXHZwr3"
      },
      "outputs": [],
      "source": [
        "from pyspark.sql import *\n",
        "from pyspark.sql.functions import *\n",
        "from pyspark.sql.types import *"
      ]
    },
    {
      "cell_type": "code",
      "source": [
        "spark=SparkSession.builder.appName(\"Question1\").getOrCreate()"
      ],
      "metadata": {
        "id": "rCXzIFm6Z7pY"
      },
      "execution_count": 49,
      "outputs": []
    },
    {
      "cell_type": "code",
      "source": [
        "df = spark.read.csv(\"emp_data.csv\", header=True)\n",
        "df.show()"
      ],
      "metadata": {
        "colab": {
          "base_uri": "https://localhost:8080/"
        },
        "id": "rRw51ttDZ-Pf",
        "outputId": "39225f02-bc41-457b-d031-f17c03cdb7b3"
      },
      "execution_count": 50,
      "outputs": [
        {
          "output_type": "stream",
          "name": "stdout",
          "text": [
            "+-----+---------+---------+---------+---------+------------------+----------------+------------+--------------+------------+-------+--------------------------+---------------+--------------+--------------------+----------+-----+----------------------+----------+------------+--------+-----------+-----------------+-----------------------+\n",
            "|EmpID|FirstName| LastName|StartDate| ExitDate|             Title|      Supervisor|BusinessUnit|EmployeeStatus|EmployeeType|PayZone|EmployeeClassificationType|TerminationType|DepartmentType|            Division|       DOB|State|JobFunctionDescription|GenderCode|LocationCode|RaceDesc|MaritalDesc|Performance Score|Current Employee Rating|\n",
            "+-----+---------+---------+---------+---------+------------------+----------------+------------+--------------+------------+-------+--------------------------+---------------+--------------+--------------------+----------+-----+----------------------+----------+------------+--------+-----------+-----------------+-----------------------+\n",
            "| 3461|  Lincoln|  Compton|18-Jul-19|01-Oct-21|Area Sales Manager|    Tammy Conner|          EW|  Future Start|   Full-Time| Zone C|                 Part-Time|    Resignation|         Sales|       General - Con|29-12-1997|   CO|               Foreman|      Male|       78046|Hispanic|    Married|Needs Improvement|                      1|\n",
            "| 3463|   Kayden|   Dodson|30-Apr-20|18-Jul-21|Area Sales Manager|  Jessica Peters|         TNS|        Active|   Part-Time| Zone A|                 Temporary|     Retirement|         Sales|    Field Operations|21-06-1951|   IN|            Tower Hand|      Male|       12703|Hispanic|     Single|      Fully Meets|                      1|\n",
            "| 3467|    Celia|   Curtis|06-May-20|     NULL|Area Sales Manager|Michael Odonnell|         WBL|        Active|    Contract| Zone A|                 Part-Time|            Unk|         Sales|            Fielders|14-05-1987|   KY|              Engineer|    Female|       94333|   Asian|   Divorced|          Exceeds|                      6|\n",
            "| 3480| Jerimiah|   Harmon|08-Sep-22|16-Oct-22|Area Sales Manager|       Eric King|          PL|  Future Start|   Full-Time| Zone C|                 Temporary|     Retirement|         Sales|                Catv|09-08-1946|   TX|            Supervisor|    Female|       75671|   Black|    Widowed|      Fully Meets|                      6|\n",
            "| 3483|  Jaslene|  Harding|26-Sep-21|     NULL|Area Sales Manager|Krystal Hamilton|         SVG|        Active|   Part-Time| Zone B|                 Temporary|            Unk|         Sales|Project Managemen...|19-06-1964|   CO|           Coordinator|      Male|       42605|   Asian|    Widowed|      Fully Meets|                      6|\n",
            "| 3492|  Vicente|  Merritt|26-Nov-19|     NULL|Area Sales Manager|    Ashley Smith|          PL|        Active|   Full-Time| Zone C|                 Full-Time|            Unk|         Sales|       General - Con|08-01-1993|   CO|                 Clerk|      Male|       31676|   Asian|    Married|      Fully Meets|                      1|\n",
            "| 3497|   Graham|Rodriguez|08-Dec-21|     NULL|Area Sales Manager|   Kendra Murray|         TNS|        Active|   Part-Time| Zone C|                 Temporary|            Unk|         Sales|Project Managemen...|18-02-1981|   OR|               Lineman|    Female|       58210|Hispanic|    Widowed|      Fully Meets|                      6|\n",
            "| 3500|   Nevaeh|    Lucas|20-Nov-18|21-Jun-20|Area Sales Manager|   Bryan Douglas|         NEL|        Active|   Full-Time| Zone B|                 Part-Time|      Voluntary|         Sales|        Shop (Fleet)|25-02-2000|   TX|              Mechanic|    Female|       80424|   White|   Divorced|      Fully Meets|                      1|\n",
            "| 3502|   Eugene|    Marks|01-Oct-19|     NULL|Area Sales Manager|   Angela Morris|         BPC|        Active|   Full-Time| Zone C|                 Temporary|            Unk|         Sales|            Splicing|29-06-1976|   TX|           Electrician|      Male|       49914|   White|    Married|      Fully Meets|                      1|\n",
            "| 3505|    Amaya|    Hicks|29-Aug-20|     NULL|Area Sales Manager| Michael Wilkins|          EW|        Active|    Contract| Zone B|                 Temporary|            Unk|         Sales|    Field Operations|24-07-1943|   IN|             Groundman|      Male|       72324|Hispanic|    Widowed|      Fully Meets|                      1|\n",
            "| 3514|   Alexus|    Estes|15-Apr-20|     NULL|Area Sales Manager|  April Randolph|         BPC|        Active|   Full-Time| Zone B|                 Part-Time|            Unk|         Sales|Wireline Construc...|03-01-1958|   TX|               Manager|      Male|       17419|   Asian|    Married|      Fully Meets|                      1|\n",
            "| 3520|   Caiden|    Munoz|13-Dec-20|13-Jan-23|Area Sales Manager|   Teresa Daniel|         TNS|        Active|   Full-Time| Zone C|                 Temporary|    Involuntary|         Sales|Project Managemen...|01-03-1963|   ND|               Manager|    Female|       18983|   Black|   Divorced|      Fully Meets|                      1|\n",
            "| 3522|  Marques|Armstrong|02-Mar-20|     NULL|Area Sales Manager|  Michael Nguyen|         BPC|        Active|   Full-Time| Zone C|                 Part-Time|            Unk|         Sales|            Splicing|12-10-1983|   KY|               Splicer|    Female|       34369|   Other|     Single|      Fully Meets|                      1|\n",
            "| 3527|    Ahmed|  Hawkins|01-May-20|25-Feb-21|Area Sales Manager|   Hannah Snyder|          PL|        Active|   Full-Time| Zone B|                 Temporary|     Retirement|         Sales|              Aerial|15-10-1974|   CO|               Lineman|      Male|       46645|   Black|    Married|      Fully Meets|                      1|\n",
            "| 3531|   Ronnie|    Mayer|17-Jun-23|     NULL|Area Sales Manager|     Dylan Blake|         WBL|        Active|   Full-Time| Zone C|                 Full-Time|            Unk|         Sales|Project Managemen...|18-05-1943|   CA|       Project Manager|      Male|       18409|   Black|   Divorced|      Fully Meets|                      1|\n",
            "| 3532|   Marlon|     Ford|14-Oct-21|     NULL|Area Sales Manager|Monique Anderson|          EW|        Active|   Part-Time| Zone B|                 Full-Time|            Unk|         IT/IS|            Wireless|27-11-1966|   OR|            Technician|    Female|       40306|   Black|    Widowed|      Fully Meets|                      1|\n",
            "| 3542|    Ellie|     Gill|15-Apr-23|     NULL|Area Sales Manager|   Amanda Knight|          EW|        Active|    Contract| Zone A|                 Temporary|            Unk|         Sales|    Field Operations|01-03-1948|   IN|               Manager|      Male|       45456|   White|    Married|Needs Improvement|                      1|\n",
            "| 3545|    Ryann|    Rubio|07-Mar-22|     NULL|Area Sales Manager|    Andres Jones|          EW|        Active|   Full-Time| Zone C|                 Temporary|            Unk|         IT/IS|    Field Operations|28-01-1943|   OR|               Locator|    Female|        9733|   Black|    Widowed|      Fully Meets|                      1|\n",
            "| 3546|    Paris|     Carr|31-Jul-21|27-Jan-23|Area Sales Manager| Jeffrey Huffman|        CCDR|        Active|   Full-Time| Zone B|                 Part-Time|      Voluntary|         Sales|       General - Con|14-07-1980|   ND|               Foreman|      Male|       35786|Hispanic|    Widowed|          Exceeds|                      1|\n",
            "| 3548|    Sanaa|    Glass|11-Jul-21|10-Oct-22|Area Sales Manager|  Stephen Garcia|         WBL|        Active|   Part-Time| Zone A|                 Full-Time|    Resignation|         Sales|       General - Con|25-01-1964|   KY|            Technician|    Female|       40135|   White|     Single|      Fully Meets|                      1|\n",
            "+-----+---------+---------+---------+---------+------------------+----------------+------------+--------------+------------+-------+--------------------------+---------------+--------------+--------------------+----------+-----+----------------------+----------+------------+--------+-----------+-----------------+-----------------------+\n",
            "only showing top 20 rows\n",
            "\n"
          ]
        }
      ]
    },
    {
      "cell_type": "code",
      "source": [
        "print(\"Columns with missing values:\")\n",
        "# Print column names with missing values\n",
        "for column in df.columns:\n",
        "  if df.filter(col(column).isNull()).count() > 0:\n",
        "    print(f\"{column} has missing values\")"
      ],
      "metadata": {
        "colab": {
          "base_uri": "https://localhost:8080/"
        },
        "id": "7kYghOlKaEJ3",
        "outputId": "f4f16053-cac7-41a5-9924-a864c99217f8"
      },
      "execution_count": 51,
      "outputs": [
        {
          "output_type": "stream",
          "name": "stdout",
          "text": [
            "Columns with missing values:\n",
            "ExitDate has missing values\n"
          ]
        }
      ]
    },
    {
      "cell_type": "code",
      "source": [
        "# Replace missing values in the \"LastName\" column with \"Unknown\"\n",
        "df_replaced = df.withColumn(\"LastName\", when(col(\"LastName\").isNull(), \"Unknown\").otherwise(col(\"LastName\")))\n",
        "print(\"DataFrame after replacing missing values in LastName:\")\n",
        "df_replaced.show()"
      ],
      "metadata": {
        "colab": {
          "base_uri": "https://localhost:8080/"
        },
        "id": "yPr6CSRKadLZ",
        "outputId": "ec074e18-a7fc-4daa-d96d-18ac7ac22422"
      },
      "execution_count": 52,
      "outputs": [
        {
          "output_type": "stream",
          "name": "stdout",
          "text": [
            "DataFrame after replacing missing values in LastName:\n",
            "+-----+---------+---------+---------+---------+------------------+----------------+------------+--------------+------------+-------+--------------------------+---------------+--------------+--------------------+----------+-----+----------------------+----------+------------+--------+-----------+-----------------+-----------------------+\n",
            "|EmpID|FirstName| LastName|StartDate| ExitDate|             Title|      Supervisor|BusinessUnit|EmployeeStatus|EmployeeType|PayZone|EmployeeClassificationType|TerminationType|DepartmentType|            Division|       DOB|State|JobFunctionDescription|GenderCode|LocationCode|RaceDesc|MaritalDesc|Performance Score|Current Employee Rating|\n",
            "+-----+---------+---------+---------+---------+------------------+----------------+------------+--------------+------------+-------+--------------------------+---------------+--------------+--------------------+----------+-----+----------------------+----------+------------+--------+-----------+-----------------+-----------------------+\n",
            "| 3461|  Lincoln|  Compton|18-Jul-19|01-Oct-21|Area Sales Manager|    Tammy Conner|          EW|  Future Start|   Full-Time| Zone C|                 Part-Time|    Resignation|         Sales|       General - Con|29-12-1997|   CO|               Foreman|      Male|       78046|Hispanic|    Married|Needs Improvement|                      1|\n",
            "| 3463|   Kayden|   Dodson|30-Apr-20|18-Jul-21|Area Sales Manager|  Jessica Peters|         TNS|        Active|   Part-Time| Zone A|                 Temporary|     Retirement|         Sales|    Field Operations|21-06-1951|   IN|            Tower Hand|      Male|       12703|Hispanic|     Single|      Fully Meets|                      1|\n",
            "| 3467|    Celia|   Curtis|06-May-20|     NULL|Area Sales Manager|Michael Odonnell|         WBL|        Active|    Contract| Zone A|                 Part-Time|            Unk|         Sales|            Fielders|14-05-1987|   KY|              Engineer|    Female|       94333|   Asian|   Divorced|          Exceeds|                      6|\n",
            "| 3480| Jerimiah|   Harmon|08-Sep-22|16-Oct-22|Area Sales Manager|       Eric King|          PL|  Future Start|   Full-Time| Zone C|                 Temporary|     Retirement|         Sales|                Catv|09-08-1946|   TX|            Supervisor|    Female|       75671|   Black|    Widowed|      Fully Meets|                      6|\n",
            "| 3483|  Jaslene|  Harding|26-Sep-21|     NULL|Area Sales Manager|Krystal Hamilton|         SVG|        Active|   Part-Time| Zone B|                 Temporary|            Unk|         Sales|Project Managemen...|19-06-1964|   CO|           Coordinator|      Male|       42605|   Asian|    Widowed|      Fully Meets|                      6|\n",
            "| 3492|  Vicente|  Merritt|26-Nov-19|     NULL|Area Sales Manager|    Ashley Smith|          PL|        Active|   Full-Time| Zone C|                 Full-Time|            Unk|         Sales|       General - Con|08-01-1993|   CO|                 Clerk|      Male|       31676|   Asian|    Married|      Fully Meets|                      1|\n",
            "| 3497|   Graham|Rodriguez|08-Dec-21|     NULL|Area Sales Manager|   Kendra Murray|         TNS|        Active|   Part-Time| Zone C|                 Temporary|            Unk|         Sales|Project Managemen...|18-02-1981|   OR|               Lineman|    Female|       58210|Hispanic|    Widowed|      Fully Meets|                      6|\n",
            "| 3500|   Nevaeh|    Lucas|20-Nov-18|21-Jun-20|Area Sales Manager|   Bryan Douglas|         NEL|        Active|   Full-Time| Zone B|                 Part-Time|      Voluntary|         Sales|        Shop (Fleet)|25-02-2000|   TX|              Mechanic|    Female|       80424|   White|   Divorced|      Fully Meets|                      1|\n",
            "| 3502|   Eugene|    Marks|01-Oct-19|     NULL|Area Sales Manager|   Angela Morris|         BPC|        Active|   Full-Time| Zone C|                 Temporary|            Unk|         Sales|            Splicing|29-06-1976|   TX|           Electrician|      Male|       49914|   White|    Married|      Fully Meets|                      1|\n",
            "| 3505|    Amaya|    Hicks|29-Aug-20|     NULL|Area Sales Manager| Michael Wilkins|          EW|        Active|    Contract| Zone B|                 Temporary|            Unk|         Sales|    Field Operations|24-07-1943|   IN|             Groundman|      Male|       72324|Hispanic|    Widowed|      Fully Meets|                      1|\n",
            "| 3514|   Alexus|    Estes|15-Apr-20|     NULL|Area Sales Manager|  April Randolph|         BPC|        Active|   Full-Time| Zone B|                 Part-Time|            Unk|         Sales|Wireline Construc...|03-01-1958|   TX|               Manager|      Male|       17419|   Asian|    Married|      Fully Meets|                      1|\n",
            "| 3520|   Caiden|    Munoz|13-Dec-20|13-Jan-23|Area Sales Manager|   Teresa Daniel|         TNS|        Active|   Full-Time| Zone C|                 Temporary|    Involuntary|         Sales|Project Managemen...|01-03-1963|   ND|               Manager|    Female|       18983|   Black|   Divorced|      Fully Meets|                      1|\n",
            "| 3522|  Marques|Armstrong|02-Mar-20|     NULL|Area Sales Manager|  Michael Nguyen|         BPC|        Active|   Full-Time| Zone C|                 Part-Time|            Unk|         Sales|            Splicing|12-10-1983|   KY|               Splicer|    Female|       34369|   Other|     Single|      Fully Meets|                      1|\n",
            "| 3527|    Ahmed|  Hawkins|01-May-20|25-Feb-21|Area Sales Manager|   Hannah Snyder|          PL|        Active|   Full-Time| Zone B|                 Temporary|     Retirement|         Sales|              Aerial|15-10-1974|   CO|               Lineman|      Male|       46645|   Black|    Married|      Fully Meets|                      1|\n",
            "| 3531|   Ronnie|    Mayer|17-Jun-23|     NULL|Area Sales Manager|     Dylan Blake|         WBL|        Active|   Full-Time| Zone C|                 Full-Time|            Unk|         Sales|Project Managemen...|18-05-1943|   CA|       Project Manager|      Male|       18409|   Black|   Divorced|      Fully Meets|                      1|\n",
            "| 3532|   Marlon|     Ford|14-Oct-21|     NULL|Area Sales Manager|Monique Anderson|          EW|        Active|   Part-Time| Zone B|                 Full-Time|            Unk|         IT/IS|            Wireless|27-11-1966|   OR|            Technician|    Female|       40306|   Black|    Widowed|      Fully Meets|                      1|\n",
            "| 3542|    Ellie|     Gill|15-Apr-23|     NULL|Area Sales Manager|   Amanda Knight|          EW|        Active|    Contract| Zone A|                 Temporary|            Unk|         Sales|    Field Operations|01-03-1948|   IN|               Manager|      Male|       45456|   White|    Married|Needs Improvement|                      1|\n",
            "| 3545|    Ryann|    Rubio|07-Mar-22|     NULL|Area Sales Manager|    Andres Jones|          EW|        Active|   Full-Time| Zone C|                 Temporary|            Unk|         IT/IS|    Field Operations|28-01-1943|   OR|               Locator|    Female|        9733|   Black|    Widowed|      Fully Meets|                      1|\n",
            "| 3546|    Paris|     Carr|31-Jul-21|27-Jan-23|Area Sales Manager| Jeffrey Huffman|        CCDR|        Active|   Full-Time| Zone B|                 Part-Time|      Voluntary|         Sales|       General - Con|14-07-1980|   ND|               Foreman|      Male|       35786|Hispanic|    Widowed|          Exceeds|                      1|\n",
            "| 3548|    Sanaa|    Glass|11-Jul-21|10-Oct-22|Area Sales Manager|  Stephen Garcia|         WBL|        Active|   Part-Time| Zone A|                 Full-Time|    Resignation|         Sales|       General - Con|25-01-1964|   KY|            Technician|    Female|       40135|   White|     Single|      Fully Meets|                      1|\n",
            "+-----+---------+---------+---------+---------+------------------+----------------+------------+--------------+------------+-------+--------------------------+---------------+--------------+--------------------+----------+-----+----------------------+----------+------------+--------+-----------+-----------------+-----------------------+\n",
            "only showing top 20 rows\n",
            "\n"
          ]
        }
      ]
    },
    {
      "cell_type": "code",
      "source": [
        "# Drop rows with missing values in essential columns like EmpID or StartDate\n",
        "df = df_replaced.dropna(subset=[\"EmpID\", \"StartDate\"])\n",
        "print(\"DataFrame after dropping rows with missing values in EmpID or StartDate:\")\n",
        "df.show()"
      ],
      "metadata": {
        "colab": {
          "base_uri": "https://localhost:8080/"
        },
        "id": "tX0IiRzOaf4A",
        "outputId": "0509fb03-9751-4bf9-8f6d-2ba41c7959dc"
      },
      "execution_count": 53,
      "outputs": [
        {
          "output_type": "stream",
          "name": "stdout",
          "text": [
            "DataFrame after dropping rows with missing values in EmpID or StartDate:\n",
            "+-----+---------+---------+---------+---------+------------------+----------------+------------+--------------+------------+-------+--------------------------+---------------+--------------+--------------------+----------+-----+----------------------+----------+------------+--------+-----------+-----------------+-----------------------+\n",
            "|EmpID|FirstName| LastName|StartDate| ExitDate|             Title|      Supervisor|BusinessUnit|EmployeeStatus|EmployeeType|PayZone|EmployeeClassificationType|TerminationType|DepartmentType|            Division|       DOB|State|JobFunctionDescription|GenderCode|LocationCode|RaceDesc|MaritalDesc|Performance Score|Current Employee Rating|\n",
            "+-----+---------+---------+---------+---------+------------------+----------------+------------+--------------+------------+-------+--------------------------+---------------+--------------+--------------------+----------+-----+----------------------+----------+------------+--------+-----------+-----------------+-----------------------+\n",
            "| 3461|  Lincoln|  Compton|18-Jul-19|01-Oct-21|Area Sales Manager|    Tammy Conner|          EW|  Future Start|   Full-Time| Zone C|                 Part-Time|    Resignation|         Sales|       General - Con|29-12-1997|   CO|               Foreman|      Male|       78046|Hispanic|    Married|Needs Improvement|                      1|\n",
            "| 3463|   Kayden|   Dodson|30-Apr-20|18-Jul-21|Area Sales Manager|  Jessica Peters|         TNS|        Active|   Part-Time| Zone A|                 Temporary|     Retirement|         Sales|    Field Operations|21-06-1951|   IN|            Tower Hand|      Male|       12703|Hispanic|     Single|      Fully Meets|                      1|\n",
            "| 3467|    Celia|   Curtis|06-May-20|     NULL|Area Sales Manager|Michael Odonnell|         WBL|        Active|    Contract| Zone A|                 Part-Time|            Unk|         Sales|            Fielders|14-05-1987|   KY|              Engineer|    Female|       94333|   Asian|   Divorced|          Exceeds|                      6|\n",
            "| 3480| Jerimiah|   Harmon|08-Sep-22|16-Oct-22|Area Sales Manager|       Eric King|          PL|  Future Start|   Full-Time| Zone C|                 Temporary|     Retirement|         Sales|                Catv|09-08-1946|   TX|            Supervisor|    Female|       75671|   Black|    Widowed|      Fully Meets|                      6|\n",
            "| 3483|  Jaslene|  Harding|26-Sep-21|     NULL|Area Sales Manager|Krystal Hamilton|         SVG|        Active|   Part-Time| Zone B|                 Temporary|            Unk|         Sales|Project Managemen...|19-06-1964|   CO|           Coordinator|      Male|       42605|   Asian|    Widowed|      Fully Meets|                      6|\n",
            "| 3492|  Vicente|  Merritt|26-Nov-19|     NULL|Area Sales Manager|    Ashley Smith|          PL|        Active|   Full-Time| Zone C|                 Full-Time|            Unk|         Sales|       General - Con|08-01-1993|   CO|                 Clerk|      Male|       31676|   Asian|    Married|      Fully Meets|                      1|\n",
            "| 3497|   Graham|Rodriguez|08-Dec-21|     NULL|Area Sales Manager|   Kendra Murray|         TNS|        Active|   Part-Time| Zone C|                 Temporary|            Unk|         Sales|Project Managemen...|18-02-1981|   OR|               Lineman|    Female|       58210|Hispanic|    Widowed|      Fully Meets|                      6|\n",
            "| 3500|   Nevaeh|    Lucas|20-Nov-18|21-Jun-20|Area Sales Manager|   Bryan Douglas|         NEL|        Active|   Full-Time| Zone B|                 Part-Time|      Voluntary|         Sales|        Shop (Fleet)|25-02-2000|   TX|              Mechanic|    Female|       80424|   White|   Divorced|      Fully Meets|                      1|\n",
            "| 3502|   Eugene|    Marks|01-Oct-19|     NULL|Area Sales Manager|   Angela Morris|         BPC|        Active|   Full-Time| Zone C|                 Temporary|            Unk|         Sales|            Splicing|29-06-1976|   TX|           Electrician|      Male|       49914|   White|    Married|      Fully Meets|                      1|\n",
            "| 3505|    Amaya|    Hicks|29-Aug-20|     NULL|Area Sales Manager| Michael Wilkins|          EW|        Active|    Contract| Zone B|                 Temporary|            Unk|         Sales|    Field Operations|24-07-1943|   IN|             Groundman|      Male|       72324|Hispanic|    Widowed|      Fully Meets|                      1|\n",
            "| 3514|   Alexus|    Estes|15-Apr-20|     NULL|Area Sales Manager|  April Randolph|         BPC|        Active|   Full-Time| Zone B|                 Part-Time|            Unk|         Sales|Wireline Construc...|03-01-1958|   TX|               Manager|      Male|       17419|   Asian|    Married|      Fully Meets|                      1|\n",
            "| 3520|   Caiden|    Munoz|13-Dec-20|13-Jan-23|Area Sales Manager|   Teresa Daniel|         TNS|        Active|   Full-Time| Zone C|                 Temporary|    Involuntary|         Sales|Project Managemen...|01-03-1963|   ND|               Manager|    Female|       18983|   Black|   Divorced|      Fully Meets|                      1|\n",
            "| 3522|  Marques|Armstrong|02-Mar-20|     NULL|Area Sales Manager|  Michael Nguyen|         BPC|        Active|   Full-Time| Zone C|                 Part-Time|            Unk|         Sales|            Splicing|12-10-1983|   KY|               Splicer|    Female|       34369|   Other|     Single|      Fully Meets|                      1|\n",
            "| 3527|    Ahmed|  Hawkins|01-May-20|25-Feb-21|Area Sales Manager|   Hannah Snyder|          PL|        Active|   Full-Time| Zone B|                 Temporary|     Retirement|         Sales|              Aerial|15-10-1974|   CO|               Lineman|      Male|       46645|   Black|    Married|      Fully Meets|                      1|\n",
            "| 3531|   Ronnie|    Mayer|17-Jun-23|     NULL|Area Sales Manager|     Dylan Blake|         WBL|        Active|   Full-Time| Zone C|                 Full-Time|            Unk|         Sales|Project Managemen...|18-05-1943|   CA|       Project Manager|      Male|       18409|   Black|   Divorced|      Fully Meets|                      1|\n",
            "| 3532|   Marlon|     Ford|14-Oct-21|     NULL|Area Sales Manager|Monique Anderson|          EW|        Active|   Part-Time| Zone B|                 Full-Time|            Unk|         IT/IS|            Wireless|27-11-1966|   OR|            Technician|    Female|       40306|   Black|    Widowed|      Fully Meets|                      1|\n",
            "| 3542|    Ellie|     Gill|15-Apr-23|     NULL|Area Sales Manager|   Amanda Knight|          EW|        Active|    Contract| Zone A|                 Temporary|            Unk|         Sales|    Field Operations|01-03-1948|   IN|               Manager|      Male|       45456|   White|    Married|Needs Improvement|                      1|\n",
            "| 3545|    Ryann|    Rubio|07-Mar-22|     NULL|Area Sales Manager|    Andres Jones|          EW|        Active|   Full-Time| Zone C|                 Temporary|            Unk|         IT/IS|    Field Operations|28-01-1943|   OR|               Locator|    Female|        9733|   Black|    Widowed|      Fully Meets|                      1|\n",
            "| 3546|    Paris|     Carr|31-Jul-21|27-Jan-23|Area Sales Manager| Jeffrey Huffman|        CCDR|        Active|   Full-Time| Zone B|                 Part-Time|      Voluntary|         Sales|       General - Con|14-07-1980|   ND|               Foreman|      Male|       35786|Hispanic|    Widowed|          Exceeds|                      1|\n",
            "| 3548|    Sanaa|    Glass|11-Jul-21|10-Oct-22|Area Sales Manager|  Stephen Garcia|         WBL|        Active|   Part-Time| Zone A|                 Full-Time|    Resignation|         Sales|       General - Con|25-01-1964|   KY|            Technician|    Female|       40135|   White|     Single|      Fully Meets|                      1|\n",
            "+-----+---------+---------+---------+---------+------------------+----------------+------------+--------------+------------+-------+--------------------------+---------------+--------------+--------------------+----------+-----+----------------------+----------+------------+--------+-----------+-----------------+-----------------------+\n",
            "only showing top 20 rows\n",
            "\n"
          ]
        }
      ]
    },
    {
      "cell_type": "code",
      "source": [
        "from pyspark.sql.functions import col, lit, greatest, least\n",
        "\n",
        "# Cap values between 1 and 5 for the 'CurrentEmployeeRating' column\n",
        "df_outliers_handled = df.withColumn(\n",
        "    \"CurrentEmployeeRating\",\n",
        "    least(greatest(col(\"Current Employee Rating\").cast(\"float\"), lit(1)), lit(5))\n",
        ")\n",
        "\n",
        "# Drop the original 'Current Employee Rating' column and show the result\n",
        "df = df_outliers_handled.drop(\"Current Employee Rating\")\n",
        "df.show()\n"
      ],
      "metadata": {
        "colab": {
          "base_uri": "https://localhost:8080/"
        },
        "id": "QIoVhMJka0um",
        "outputId": "584741b9-726e-4fd6-ddbe-5ae1c0057818"
      },
      "execution_count": 55,
      "outputs": [
        {
          "output_type": "stream",
          "name": "stdout",
          "text": [
            "+-----+---------+---------+---------+---------+------------------+----------------+------------+--------------+------------+-------+--------------------------+---------------+--------------+--------------------+----------+-----+----------------------+----------+------------+--------+-----------+-----------------+---------------------+\n",
            "|EmpID|FirstName| LastName|StartDate| ExitDate|             Title|      Supervisor|BusinessUnit|EmployeeStatus|EmployeeType|PayZone|EmployeeClassificationType|TerminationType|DepartmentType|            Division|       DOB|State|JobFunctionDescription|GenderCode|LocationCode|RaceDesc|MaritalDesc|Performance Score|CurrentEmployeeRating|\n",
            "+-----+---------+---------+---------+---------+------------------+----------------+------------+--------------+------------+-------+--------------------------+---------------+--------------+--------------------+----------+-----+----------------------+----------+------------+--------+-----------+-----------------+---------------------+\n",
            "| 3461|  Lincoln|  Compton|18-Jul-19|01-Oct-21|Area Sales Manager|    Tammy Conner|          EW|  Future Start|   Full-Time| Zone C|                 Part-Time|    Resignation|         Sales|       General - Con|29-12-1997|   CO|               Foreman|      Male|       78046|Hispanic|    Married|Needs Improvement|                  1.0|\n",
            "| 3463|   Kayden|   Dodson|30-Apr-20|18-Jul-21|Area Sales Manager|  Jessica Peters|         TNS|        Active|   Part-Time| Zone A|                 Temporary|     Retirement|         Sales|    Field Operations|21-06-1951|   IN|            Tower Hand|      Male|       12703|Hispanic|     Single|      Fully Meets|                  1.0|\n",
            "| 3467|    Celia|   Curtis|06-May-20|     NULL|Area Sales Manager|Michael Odonnell|         WBL|        Active|    Contract| Zone A|                 Part-Time|            Unk|         Sales|            Fielders|14-05-1987|   KY|              Engineer|    Female|       94333|   Asian|   Divorced|          Exceeds|                  5.0|\n",
            "| 3480| Jerimiah|   Harmon|08-Sep-22|16-Oct-22|Area Sales Manager|       Eric King|          PL|  Future Start|   Full-Time| Zone C|                 Temporary|     Retirement|         Sales|                Catv|09-08-1946|   TX|            Supervisor|    Female|       75671|   Black|    Widowed|      Fully Meets|                  5.0|\n",
            "| 3483|  Jaslene|  Harding|26-Sep-21|     NULL|Area Sales Manager|Krystal Hamilton|         SVG|        Active|   Part-Time| Zone B|                 Temporary|            Unk|         Sales|Project Managemen...|19-06-1964|   CO|           Coordinator|      Male|       42605|   Asian|    Widowed|      Fully Meets|                  5.0|\n",
            "| 3492|  Vicente|  Merritt|26-Nov-19|     NULL|Area Sales Manager|    Ashley Smith|          PL|        Active|   Full-Time| Zone C|                 Full-Time|            Unk|         Sales|       General - Con|08-01-1993|   CO|                 Clerk|      Male|       31676|   Asian|    Married|      Fully Meets|                  1.0|\n",
            "| 3497|   Graham|Rodriguez|08-Dec-21|     NULL|Area Sales Manager|   Kendra Murray|         TNS|        Active|   Part-Time| Zone C|                 Temporary|            Unk|         Sales|Project Managemen...|18-02-1981|   OR|               Lineman|    Female|       58210|Hispanic|    Widowed|      Fully Meets|                  5.0|\n",
            "| 3500|   Nevaeh|    Lucas|20-Nov-18|21-Jun-20|Area Sales Manager|   Bryan Douglas|         NEL|        Active|   Full-Time| Zone B|                 Part-Time|      Voluntary|         Sales|        Shop (Fleet)|25-02-2000|   TX|              Mechanic|    Female|       80424|   White|   Divorced|      Fully Meets|                  1.0|\n",
            "| 3502|   Eugene|    Marks|01-Oct-19|     NULL|Area Sales Manager|   Angela Morris|         BPC|        Active|   Full-Time| Zone C|                 Temporary|            Unk|         Sales|            Splicing|29-06-1976|   TX|           Electrician|      Male|       49914|   White|    Married|      Fully Meets|                  1.0|\n",
            "| 3505|    Amaya|    Hicks|29-Aug-20|     NULL|Area Sales Manager| Michael Wilkins|          EW|        Active|    Contract| Zone B|                 Temporary|            Unk|         Sales|    Field Operations|24-07-1943|   IN|             Groundman|      Male|       72324|Hispanic|    Widowed|      Fully Meets|                  1.0|\n",
            "| 3514|   Alexus|    Estes|15-Apr-20|     NULL|Area Sales Manager|  April Randolph|         BPC|        Active|   Full-Time| Zone B|                 Part-Time|            Unk|         Sales|Wireline Construc...|03-01-1958|   TX|               Manager|      Male|       17419|   Asian|    Married|      Fully Meets|                  1.0|\n",
            "| 3520|   Caiden|    Munoz|13-Dec-20|13-Jan-23|Area Sales Manager|   Teresa Daniel|         TNS|        Active|   Full-Time| Zone C|                 Temporary|    Involuntary|         Sales|Project Managemen...|01-03-1963|   ND|               Manager|    Female|       18983|   Black|   Divorced|      Fully Meets|                  1.0|\n",
            "| 3522|  Marques|Armstrong|02-Mar-20|     NULL|Area Sales Manager|  Michael Nguyen|         BPC|        Active|   Full-Time| Zone C|                 Part-Time|            Unk|         Sales|            Splicing|12-10-1983|   KY|               Splicer|    Female|       34369|   Other|     Single|      Fully Meets|                  1.0|\n",
            "| 3527|    Ahmed|  Hawkins|01-May-20|25-Feb-21|Area Sales Manager|   Hannah Snyder|          PL|        Active|   Full-Time| Zone B|                 Temporary|     Retirement|         Sales|              Aerial|15-10-1974|   CO|               Lineman|      Male|       46645|   Black|    Married|      Fully Meets|                  1.0|\n",
            "| 3531|   Ronnie|    Mayer|17-Jun-23|     NULL|Area Sales Manager|     Dylan Blake|         WBL|        Active|   Full-Time| Zone C|                 Full-Time|            Unk|         Sales|Project Managemen...|18-05-1943|   CA|       Project Manager|      Male|       18409|   Black|   Divorced|      Fully Meets|                  1.0|\n",
            "| 3532|   Marlon|     Ford|14-Oct-21|     NULL|Area Sales Manager|Monique Anderson|          EW|        Active|   Part-Time| Zone B|                 Full-Time|            Unk|         IT/IS|            Wireless|27-11-1966|   OR|            Technician|    Female|       40306|   Black|    Widowed|      Fully Meets|                  1.0|\n",
            "| 3542|    Ellie|     Gill|15-Apr-23|     NULL|Area Sales Manager|   Amanda Knight|          EW|        Active|    Contract| Zone A|                 Temporary|            Unk|         Sales|    Field Operations|01-03-1948|   IN|               Manager|      Male|       45456|   White|    Married|Needs Improvement|                  1.0|\n",
            "| 3545|    Ryann|    Rubio|07-Mar-22|     NULL|Area Sales Manager|    Andres Jones|          EW|        Active|   Full-Time| Zone C|                 Temporary|            Unk|         IT/IS|    Field Operations|28-01-1943|   OR|               Locator|    Female|        9733|   Black|    Widowed|      Fully Meets|                  1.0|\n",
            "| 3546|    Paris|     Carr|31-Jul-21|27-Jan-23|Area Sales Manager| Jeffrey Huffman|        CCDR|        Active|   Full-Time| Zone B|                 Part-Time|      Voluntary|         Sales|       General - Con|14-07-1980|   ND|               Foreman|      Male|       35786|Hispanic|    Widowed|          Exceeds|                  1.0|\n",
            "| 3548|    Sanaa|    Glass|11-Jul-21|10-Oct-22|Area Sales Manager|  Stephen Garcia|         WBL|        Active|   Part-Time| Zone A|                 Full-Time|    Resignation|         Sales|       General - Con|25-01-1964|   KY|            Technician|    Female|       40135|   White|     Single|      Fully Meets|                  1.0|\n",
            "+-----+---------+---------+---------+---------+------------------+----------------+------------+--------------+------------+-------+--------------------------+---------------+--------------+--------------------+----------+-----+----------------------+----------+------------+--------+-----------+-----------------+---------------------+\n",
            "only showing top 20 rows\n",
            "\n"
          ]
        }
      ]
    },
    {
      "cell_type": "code",
      "source": [
        "from pyspark.sql.functions import count\n",
        "\n",
        "# Remove duplicate records\n",
        "df = df.dropDuplicates()\n",
        "\n",
        "# Group by 'DepartmentType' and 'JobFunctionDescription' and count the number of employees\n",
        "df_employee_count = df.groupBy(\"DepartmentType\", \"JobFunctionDescription\").agg(count(\"EmpID\"))\n",
        "\n",
        "# Show the result\n",
        "df_employee_count.show()\n"
      ],
      "metadata": {
        "colab": {
          "base_uri": "https://localhost:8080/"
        },
        "id": "cMhXxovRa3CE",
        "outputId": "8c72c250-5114-4f53-d819-86a996eed196"
      },
      "execution_count": 56,
      "outputs": [
        {
          "output_type": "stream",
          "name": "stdout",
          "text": [
            "+-----------------+----------------------+------------+\n",
            "|   DepartmentType|JobFunctionDescription|count(EmpID)|\n",
            "+-----------------+----------------------+------------+\n",
            "|            Sales|                 Clerk|           2|\n",
            "|            IT/IS|               Laborer|          25|\n",
            "|            Sales|              Director|           4|\n",
            "|            Sales|               Flagger|           1|\n",
            "|Production       |               Planner|           2|\n",
            "|Production       |                Welder|           1|\n",
            "|            IT/IS|        Administration|           3|\n",
            "|Production       |               Laborer|          42|\n",
            "|            IT/IS|             Assistant|           2|\n",
            "|Production       |                 Clerk|           2|\n",
            "|            Sales|            Tower Hand|           2|\n",
            "| Executive Office|       Project Manager|           2|\n",
            "|Production       |              Director|           4|\n",
            "|            IT/IS|              Engineer|          20|\n",
            "|            Sales|           Coordinator|           5|\n",
            "|            Sales|              Mechanic|           2|\n",
            "|Production       |         Administrator|           2|\n",
            "| Executive Office|            Technician|           3|\n",
            "|            Sales|               Billing|           1|\n",
            "|Production       |               Driller|           2|\n",
            "+-----------------+----------------------+------------+\n",
            "only showing top 20 rows\n",
            "\n"
          ]
        }
      ]
    },
    {
      "cell_type": "code",
      "source": [
        "df.show()"
      ],
      "metadata": {
        "colab": {
          "base_uri": "https://localhost:8080/"
        },
        "id": "p_prw2nUpAfY",
        "outputId": "cf527f44-b7ec-4f98-d710-b6883402c61e"
      },
      "execution_count": 57,
      "outputs": [
        {
          "output_type": "stream",
          "name": "stdout",
          "text": [
            "+-----+---------+---------+---------+---------+--------------------+--------------------+------------+--------------------+------------+-------+--------------------------+---------------+-----------------+--------------------+----------+-----+----------------------+----------+------------+--------+-----------+-----------------+---------------------+\n",
            "|EmpID|FirstName| LastName|StartDate| ExitDate|               Title|          Supervisor|BusinessUnit|      EmployeeStatus|EmployeeType|PayZone|EmployeeClassificationType|TerminationType|   DepartmentType|            Division|       DOB|State|JobFunctionDescription|GenderCode|LocationCode|RaceDesc|MaritalDesc|Performance Score|CurrentEmployeeRating|\n",
            "+-----+---------+---------+---------+---------+--------------------+--------------------+------------+--------------------+------------+-------+--------------------------+---------------+-----------------+--------------------+----------+-----+----------------------+----------+------------+--------+-----------+-----------------+---------------------+\n",
            "| 3807|    Mayra|     Moss|15-Sep-21|10-Nov-21|Production Techni...|        George Doyle|          EW|              Active|    Contract| Zone C|                 Temporary|    Resignation|Production       |Project Managemen...|16-05-1964|   MA|               Manager|      Male|       84074|   Asian|     Single|      Fully Meets|                  3.0|\n",
            "| 3704|  Addisyn|  Aguilar|25-Jan-19|26-Oct-21|Production Techni...|       April Stevens|        CCDR|              Active|   Full-Time| Zone C|                 Part-Time|    Involuntary|Production       |    Field Operations|05-02-1976|   MA|             Associate|    Female|       20993|   Asian|    Married|          Exceeds|                  5.0|\n",
            "| 3967|Anastasia|Gillespie|03-Dec-18|20-Jan-21|        Data Analyst|        Harold Jones|         MSC|              Active|   Full-Time| Zone A|                 Temporary|    Involuntary|            IT/IS|Finance & Accounting|19-07-1955|   MA|        Administration|    Female|       10856|   Black|    Married|      Fully Meets|                  3.0|\n",
            "| 3872|   Lorena|     Rice|10-Aug-18|08-Feb-21|          IT Support|       Jeffrey Ramos|        CCDR|              Active|    Contract| Zone B|                 Part-Time|    Resignation|            IT/IS|           Engineers|08-01-1966|   MA|              Director|    Female|       48135|   Asian|     Single|      Fully Meets|                  3.0|\n",
            "| 3975|   Kianna|   Rhodes|03-Nov-20|25-Sep-22|                 CIO|         Curtis Hill|        CCDR|Terminated for Cause|   Part-Time| Zone B|                 Temporary|      Voluntary|            IT/IS|    Field Operations|25-01-1999|   TX|            Technician|      Male|       44793|   Asian|     Single|      Fully Meets|                  3.0|\n",
            "| 3775|    Karma|     Koch|13-Jul-21|26-Nov-22|Production Techni...|            Amy Ross|         BPC|              Active|    Contract| Zone B|                 Part-Time|    Resignation|Production       |    Field Operations|15-10-1980|   MA|               Laborer|      Male|       36153|   Other|    Widowed|      Fully Meets|                  3.0|\n",
            "| 3693|     Amya|     Vega|20-May-19|30-Aug-20|Production Techni...|         Alexa Smith|         SVG|              Active|   Part-Time| Zone B|                 Temporary|    Involuntary|Production       |Project Managemen...|01-08-1977|   MA|  Field Project Man...|    Female|       13727|   White|    Married|          Exceeds|                  2.0|\n",
            "| 3929| Jeramiah|   Foster|18-Jun-23|24-Jul-23|    Network Engineer|       Kimberly Wolf|         WBL|              Active|    Contract| Zone C|                 Part-Time|    Resignation|            IT/IS|Wireline Construc...|20-04-1977|   MA|                 Clerk|    Female|       73645|   Asian|    Married|      Fully Meets|                  3.0|\n",
            "| 3482|  Cristal|   Bolton|29-Oct-19|07-Feb-21|  Area Sales Manager|      Matthew Flores|        CCDR|        Future Start|   Full-Time| Zone A|                 Temporary|    Resignation|            Sales|                Catv|11-02-1990|   TX|               Lineman|      Male|       57302|   Asian|   Divorced|Needs Improvement|                  2.0|\n",
            "| 3675|    Mario|     Mays|08-Jun-20|29-Dec-22|Production Techni...|      Melissa Torres|        CCDR|              Active|   Full-Time| Zone C|                 Full-Time|    Resignation|Production       |           Engineers|28-08-1952|   MA|            Technician|    Female|       70090|Hispanic|   Divorced|      Fully Meets|                  3.0|\n",
            "| 3535| Veronica|     Rowe|11-Dec-18|02-Jun-22|  Area Sales Manager|        Brian Morton|         PYZ|              Active|   Full-Time| Zone A|                 Temporary|     Retirement|            Sales|            Fielders|02-02-1994|   KY|              Engineer|    Female|       29811|   Black|     Single|      Fully Meets|                  4.0|\n",
            "| 3759|Gabriella|   Warner|01-May-22|25-Sep-22|Production Techni...|          Emily Pugh|          EW|              Active|    Contract| Zone B|                 Full-Time|     Retirement|Production       |Yard (Material Ha...|21-10-1958|   MA|               Laborer|      Male|       47326|   Black|    Married|      Fully Meets|                  1.0|\n",
            "| 3846|   Eugene|    Potts|04-May-20|15-May-23|          IT Support|        Anthony Neal|         NEL|              Active|    Contract| Zone C|                 Full-Time|     Retirement|            IT/IS|Wireline Construc...|10-08-1975|   MA|                Driver|      Male|       44664|   Asian|     Single|      Fully Meets|                  3.0|\n",
            "| 3856|   Darwin|    Allen|17-Mar-23|12-Jun-23|    Network Engineer|       Michael Young|         TNS|              Active|   Part-Time| Zone C|                 Part-Time|    Involuntary| Executive Office|Wireline Construc...|17-05-1994|   MA|             Groundman|      Male|       57170|   Other|   Divorced|              PIP|                  3.0|\n",
            "| 3852|    Dante|    Wyatt|01-Mar-19|25-Sep-21|Principal Data Ar...|  Dr. Eric Henderson|          PL|    Leave of Absence|   Part-Time| Zone A|                 Temporary|     Retirement|            IT/IS|    Field Operations|10-09-1987|   CT|               Laborer|    Female|       34011|   White|    Widowed|              PIP|                  3.0|\n",
            "| 3771|  Marilyn|    Smith|24-Jan-21|07-May-23|Production Techni...|       Kathryn Jones|         NEL|Voluntarily Termi...|   Part-Time| Zone B|                 Temporary|     Retirement|Production       |       General - Con|20-09-1981|   MA|               Foreman|      Male|       65845|   Asian|    Married|      Fully Meets|                  3.0|\n",
            "| 3778|    Semaj| Griffith|02-Apr-23|27-Jul-23|Production Techni...|       Frank Freeman|         SVG|              Active|   Full-Time| Zone A|                 Full-Time|    Involuntary|Production       |Wireline Construc...|09-02-1992|   MA|             Groundman|      Male|       30753|   Other|    Married|      Fully Meets|                  3.0|\n",
            "| 3883|    Noemi|   Brewer|06-May-22|26-Sep-22|          IT Support|      Jacob Hamilton|         BPC|              Active|    Contract| Zone B|                 Full-Time|    Involuntary|            IT/IS|    Field Operations|16-06-1991|   MA|         Administrator|    Female|       11294|   White|    Widowed|      Fully Meets|                  3.0|\n",
            "| 3712|     Kyra|      Ray|28-Apr-19|01-Sep-22|Production Techni...|Christopher Rober...|         MSC|        Future Start|   Part-Time| Zone C|                 Temporary|     Retirement|Production       |    Field Operations|03-04-1956|   MA|            Technician|      Male|       33658|   Asian|    Married|Needs Improvement|                  5.0|\n",
            "| 3448|   Angela|   Molina|01-Oct-19|06-Nov-20|  Area Sales Manager|       Patricia Cook|         SVG|        Future Start|   Full-Time| Zone A|                 Temporary|     Retirement|            Sales|           Engineers|12-05-1958|   TX|            Specialist|      Male|       50705|   Asian|    Widowed|      Fully Meets|                  3.0|\n",
            "+-----+---------+---------+---------+---------+--------------------+--------------------+------------+--------------------+------------+-------+--------------------------+---------------+-----------------+--------------------+----------+-----+----------------------+----------+------------+--------+-----------+-----------------+---------------------+\n",
            "only showing top 20 rows\n",
            "\n"
          ]
        }
      ]
    },
    {
      "cell_type": "code",
      "source": [
        "from pyspark.sql.functions import max\n",
        "\n",
        "# Group by DepartmentType and find the maximum PerformanceScore\n",
        "result = df.groupBy(\"DepartmentType\").agg(\n",
        "    max(\"Performance Score\").alias(\"MaxPerformanceScore\")\n",
        ")\n",
        "\n",
        "# Show the result\n",
        "result.show()"
      ],
      "metadata": {
        "colab": {
          "base_uri": "https://localhost:8080/"
        },
        "id": "dCsKzAivbhX6",
        "outputId": "d8088dd9-dc2e-416a-e104-ad737967e0e0"
      },
      "execution_count": 58,
      "outputs": [
        {
          "output_type": "stream",
          "name": "stdout",
          "text": [
            "+--------------------+-------------------+\n",
            "|      DepartmentType|MaxPerformanceScore|\n",
            "+--------------------+-------------------+\n",
            "|    Executive Office|                PIP|\n",
            "|               IT/IS|                PIP|\n",
            "|   Production       |                PIP|\n",
            "|               Sales|  Needs Improvement|\n",
            "|Software Engineering|        Fully Meets|\n",
            "+--------------------+-------------------+\n",
            "\n"
          ]
        }
      ]
    },
    {
      "cell_type": "code",
      "source": [],
      "metadata": {
        "id": "Mb_IyT9LrhMT"
      },
      "execution_count": 58,
      "outputs": []
    }
  ]
}