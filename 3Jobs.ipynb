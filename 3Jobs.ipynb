{
  "nbformat": 4,
  "nbformat_minor": 0,
  "metadata": {
    "colab": {
      "provenance": []
    },
    "kernelspec": {
      "name": "python3",
      "display_name": "Python 3"
    },
    "language_info": {
      "name": "python"
    }
  },
  "cells": [
    {
      "cell_type": "code",
      "execution_count": 2,
      "metadata": {
        "id": "0GYvCUhnxgYm"
      },
      "outputs": [],
      "source": [
        "from pyspark.sql import *\n",
        "from pyspark.sql.functions import *\n",
        "from pyspark.sql.types import *"
      ]
    },
    {
      "cell_type": "code",
      "source": [
        "spark = SparkSession.builder.appName(\"Question3\").getOrCreate()"
      ],
      "metadata": {
        "id": "A29DWiFVx67w"
      },
      "execution_count": 4,
      "outputs": []
    },
    {
      "cell_type": "code",
      "source": [
        "df = spark.read.csv(\"Cleaned_DS_Jobs.csv\", header=True)"
      ],
      "metadata": {
        "id": "26PeGluBzMEB"
      },
      "execution_count": 5,
      "outputs": []
    },
    {
      "cell_type": "code",
      "source": [
        "df.show()"
      ],
      "metadata": {
        "colab": {
          "base_uri": "https://localhost:8080/"
        },
        "id": "UHnGM7W4zjBq",
        "outputId": "ebe69521-0297-4430-e4d3-c4ab92e477e9"
      },
      "execution_count": 6,
      "outputs": [
        {
          "output_type": "stream",
          "name": "stdout",
          "text": [
            "+--------------------+---------------+------+-----------------+--------------------+--------------------+--------------------+--------------------+---------+-----------+------+-----+-------+\n",
            "|           Job Title|Salary Estimate|Rating|         Location|                Size|   Type of ownership|            Industry|              Sector|job_state|company_age|python|spark|tableau|\n",
            "+--------------------+---------------+------+-----------------+--------------------+--------------------+--------------------+--------------------+---------+-----------+------+-----+-------+\n",
            "|   Sr Data Scientist|       137-171 |   3.1|     New York, NY|1001 to 5000 empl...|Nonprofit Organiz...|  Insurance Carriers|           Insurance|       NY|         27|     0|    0|      0|\n",
            "|      Data Scientist|       137-171 |   4.2|    Chantilly, VA|5001 to 10000 emp...|    Company - Public|Research & Develo...|   Business Services|       VA|         52|     0|    0|      0|\n",
            "|      Data Scientist|       137-171 |   3.8|       Boston, MA|1001 to 5000 empl...|Private Practice ...|          Consulting|   Business Services|       MA|         39|     1|    0|      0|\n",
            "|      Data Scientist|       137-171 |   3.5|       Newton, MA|501 to 1000 emplo...|    Company - Public|Electrical & Elec...|       Manufacturing|       MA|         20|     1|    0|      0|\n",
            "|      Data Scientist|       137-171 |   2.9|     New York, NY| 51 to 200 employees|   Company - Private|Advertising & Mar...|   Business Services|       NY|         22|     1|    0|      0|\n",
            "|      Data Scientist|       137-171 |   4.2|Santa Barbara, CA| 51 to 200 employees|   Company - Private|Computer Hardware...|Information Techn...|       CA|         10|     1|    1|      0|\n",
            "|Data Scientist / ...|       137-171 |   3.9|    Cambridge, MA|    10000+ employees|    Company - Public|Biotech & Pharmac...|Biotech & Pharmac...|       MA|         24|     1|    0|      0|\n",
            "|      Data Scientist|       137-171 |   3.5|      Bedford, MA|1001 to 5000 empl...|    Company - Public|Consumer Electron...|              Retail|       MA|         30|     1|    0|      0|\n",
            "|Staff Data Scient...|       137-171 |   4.4|    San Diego, CA|5001 to 10000 emp...|    Company - Public|Computer Hardware...|Information Techn...|       CA|         37|     0|    0|      0|\n",
            "|      Data Scientist|       137-171 |   3.6|      Chicago, IL| 51 to 200 employees|   Company - Private|Enterprise Softwa...|Information Techn...|       IL|          6|     1|    0|      0|\n",
            "|      Data Scientist|       137-171 |   4.5|      Herndon, VA|501 to 1000 emplo...|   Company - Private|Enterprise Softwa...|Information Techn...|       VA|          8|     1|    0|      0|\n",
            "|      Data Scientist|       137-171 |   4.7|  Saint Louis, MO| 51 to 200 employees|   Company - Private|         IT Services|Information Techn...|       MO|          4|     1|    1|      0|\n",
            "|Data Scientist - ...|       137-171 |   3.7|     Richland, WA|1001 to 5000 empl...|          Government|              Energy|Oil, Gas, Energy ...|       WA|         55|     0|    0|      0|\n",
            "|        Data Modeler|       137-171 |   3.1|   Northbrook, IL|201 to 500 employees|   Company - Private|Chemical Manufact...|       Manufacturing|       IL|         47|     1|    0|      1|\n",
            "|      Data Scientist|       137-171 |   3.4|   Washington, DC|1001 to 5000 empl...|   Company - Private|          Consulting|   Business Services|       DC|         34|     1|    0|      0|\n",
            "|Experienced Data ...|       137-171 |   4.4|   Washington, DC|   1 to 50 employees|   Company - Private|    Federal Agencies|          Government|       DC|         23|     1|    1|      1|\n",
            "|      Data Scientist|       137-171 |   3.5|      Memphis, TN|1001 to 5000 empl...|   Company - Private|Chemical Manufact...|       Manufacturing|       TN|         75|     1|    0|      0|\n",
            "|     Data Analyst II|       137-171 |   4.2|        Plano, TX|5001 to 10000 emp...|    Company - Public|Enterprise Softwa...|Information Techn...|       TX|         32|     0|    0|      0|\n",
            "|Medical Lab Scien...|       137-171 |   3.5|   West Grove, PA|5001 to 10000 emp...|Nonprofit Organiz...|Health Care Servi...|         Health Care|       PA|          3|     0|    0|      0|\n",
            "|      Data Scientist|       137-171 |   3.2|     New York, NY| 51 to 200 employees|   Company - Private|Computer Hardware...|Information Techn...|       NY|          5|     0|    0|      0|\n",
            "+--------------------+---------------+------+-----------------+--------------------+--------------------+--------------------+--------------------+---------+-----------+------+-----+-------+\n",
            "only showing top 20 rows\n",
            "\n"
          ]
        }
      ]
    },
    {
      "cell_type": "code",
      "source": [
        "df = df.withColumn(\n",
        "\"min_salary\", split(col(\"Salary Estimate\"), \"-\").getItem(0).cast(\"int\") # Extract min\n",
        ").withColumn(\n",
        "\"max_salary\", split(col(\"Salary Estimate\"), \"-\").getItem(1).cast(\"int\") # Extract max\n",
        ")\n",
        "df.show()"
      ],
      "metadata": {
        "colab": {
          "base_uri": "https://localhost:8080/"
        },
        "id": "JeH-POHG40rm",
        "outputId": "aea0c559-7985-40ae-afa4-ffe84c0a5706"
      },
      "execution_count": 7,
      "outputs": [
        {
          "output_type": "stream",
          "name": "stdout",
          "text": [
            "+--------------------+---------------+------+-----------------+--------------------+--------------------+--------------------+--------------------+---------+-----------+------+-----+-------+----------+----------+\n",
            "|           Job Title|Salary Estimate|Rating|         Location|                Size|   Type of ownership|            Industry|              Sector|job_state|company_age|python|spark|tableau|min_salary|max_salary|\n",
            "+--------------------+---------------+------+-----------------+--------------------+--------------------+--------------------+--------------------+---------+-----------+------+-----+-------+----------+----------+\n",
            "|   Sr Data Scientist|       137-171 |   3.1|     New York, NY|1001 to 5000 empl...|Nonprofit Organiz...|  Insurance Carriers|           Insurance|       NY|         27|     0|    0|      0|       137|       171|\n",
            "|      Data Scientist|       137-171 |   4.2|    Chantilly, VA|5001 to 10000 emp...|    Company - Public|Research & Develo...|   Business Services|       VA|         52|     0|    0|      0|       137|       171|\n",
            "|      Data Scientist|       137-171 |   3.8|       Boston, MA|1001 to 5000 empl...|Private Practice ...|          Consulting|   Business Services|       MA|         39|     1|    0|      0|       137|       171|\n",
            "|      Data Scientist|       137-171 |   3.5|       Newton, MA|501 to 1000 emplo...|    Company - Public|Electrical & Elec...|       Manufacturing|       MA|         20|     1|    0|      0|       137|       171|\n",
            "|      Data Scientist|       137-171 |   2.9|     New York, NY| 51 to 200 employees|   Company - Private|Advertising & Mar...|   Business Services|       NY|         22|     1|    0|      0|       137|       171|\n",
            "|      Data Scientist|       137-171 |   4.2|Santa Barbara, CA| 51 to 200 employees|   Company - Private|Computer Hardware...|Information Techn...|       CA|         10|     1|    1|      0|       137|       171|\n",
            "|Data Scientist / ...|       137-171 |   3.9|    Cambridge, MA|    10000+ employees|    Company - Public|Biotech & Pharmac...|Biotech & Pharmac...|       MA|         24|     1|    0|      0|       137|       171|\n",
            "|      Data Scientist|       137-171 |   3.5|      Bedford, MA|1001 to 5000 empl...|    Company - Public|Consumer Electron...|              Retail|       MA|         30|     1|    0|      0|       137|       171|\n",
            "|Staff Data Scient...|       137-171 |   4.4|    San Diego, CA|5001 to 10000 emp...|    Company - Public|Computer Hardware...|Information Techn...|       CA|         37|     0|    0|      0|       137|       171|\n",
            "|      Data Scientist|       137-171 |   3.6|      Chicago, IL| 51 to 200 employees|   Company - Private|Enterprise Softwa...|Information Techn...|       IL|          6|     1|    0|      0|       137|       171|\n",
            "|      Data Scientist|       137-171 |   4.5|      Herndon, VA|501 to 1000 emplo...|   Company - Private|Enterprise Softwa...|Information Techn...|       VA|          8|     1|    0|      0|       137|       171|\n",
            "|      Data Scientist|       137-171 |   4.7|  Saint Louis, MO| 51 to 200 employees|   Company - Private|         IT Services|Information Techn...|       MO|          4|     1|    1|      0|       137|       171|\n",
            "|Data Scientist - ...|       137-171 |   3.7|     Richland, WA|1001 to 5000 empl...|          Government|              Energy|Oil, Gas, Energy ...|       WA|         55|     0|    0|      0|       137|       171|\n",
            "|        Data Modeler|       137-171 |   3.1|   Northbrook, IL|201 to 500 employees|   Company - Private|Chemical Manufact...|       Manufacturing|       IL|         47|     1|    0|      1|       137|       171|\n",
            "|      Data Scientist|       137-171 |   3.4|   Washington, DC|1001 to 5000 empl...|   Company - Private|          Consulting|   Business Services|       DC|         34|     1|    0|      0|       137|       171|\n",
            "|Experienced Data ...|       137-171 |   4.4|   Washington, DC|   1 to 50 employees|   Company - Private|    Federal Agencies|          Government|       DC|         23|     1|    1|      1|       137|       171|\n",
            "|      Data Scientist|       137-171 |   3.5|      Memphis, TN|1001 to 5000 empl...|   Company - Private|Chemical Manufact...|       Manufacturing|       TN|         75|     1|    0|      0|       137|       171|\n",
            "|     Data Analyst II|       137-171 |   4.2|        Plano, TX|5001 to 10000 emp...|    Company - Public|Enterprise Softwa...|Information Techn...|       TX|         32|     0|    0|      0|       137|       171|\n",
            "|Medical Lab Scien...|       137-171 |   3.5|   West Grove, PA|5001 to 10000 emp...|Nonprofit Organiz...|Health Care Servi...|         Health Care|       PA|          3|     0|    0|      0|       137|       171|\n",
            "|      Data Scientist|       137-171 |   3.2|     New York, NY| 51 to 200 employees|   Company - Private|Computer Hardware...|Information Techn...|       NY|          5|     0|    0|      0|       137|       171|\n",
            "+--------------------+---------------+------+-----------------+--------------------+--------------------+--------------------+--------------------+---------+-----------+------+-----+-------+----------+----------+\n",
            "only showing top 20 rows\n",
            "\n"
          ]
        }
      ]
    },
    {
      "cell_type": "code",
      "source": [
        "# Assuming your DataFrame is named 'df_split_salary'\n",
        "df = df.withColumn(\n",
        "\"average_salary\", (col(\"min_salary\") + col(\"max_salary\")) / 2\n",
        ")"
      ],
      "metadata": {
        "id": "TKFRLjtd5GjI"
      },
      "execution_count": 8,
      "outputs": []
    },
    {
      "cell_type": "code",
      "source": [
        "df.show()"
      ],
      "metadata": {
        "colab": {
          "base_uri": "https://localhost:8080/"
        },
        "id": "kCT0n-Zx6asP",
        "outputId": "28b62c90-6794-49f3-e3ea-ff428c46efd4"
      },
      "execution_count": 9,
      "outputs": [
        {
          "output_type": "stream",
          "name": "stdout",
          "text": [
            "+--------------------+---------------+------+-----------------+--------------------+--------------------+--------------------+--------------------+---------+-----------+------+-----+-------+----------+----------+--------------+\n",
            "|           Job Title|Salary Estimate|Rating|         Location|                Size|   Type of ownership|            Industry|              Sector|job_state|company_age|python|spark|tableau|min_salary|max_salary|average_salary|\n",
            "+--------------------+---------------+------+-----------------+--------------------+--------------------+--------------------+--------------------+---------+-----------+------+-----+-------+----------+----------+--------------+\n",
            "|   Sr Data Scientist|       137-171 |   3.1|     New York, NY|1001 to 5000 empl...|Nonprofit Organiz...|  Insurance Carriers|           Insurance|       NY|         27|     0|    0|      0|       137|       171|         154.0|\n",
            "|      Data Scientist|       137-171 |   4.2|    Chantilly, VA|5001 to 10000 emp...|    Company - Public|Research & Develo...|   Business Services|       VA|         52|     0|    0|      0|       137|       171|         154.0|\n",
            "|      Data Scientist|       137-171 |   3.8|       Boston, MA|1001 to 5000 empl...|Private Practice ...|          Consulting|   Business Services|       MA|         39|     1|    0|      0|       137|       171|         154.0|\n",
            "|      Data Scientist|       137-171 |   3.5|       Newton, MA|501 to 1000 emplo...|    Company - Public|Electrical & Elec...|       Manufacturing|       MA|         20|     1|    0|      0|       137|       171|         154.0|\n",
            "|      Data Scientist|       137-171 |   2.9|     New York, NY| 51 to 200 employees|   Company - Private|Advertising & Mar...|   Business Services|       NY|         22|     1|    0|      0|       137|       171|         154.0|\n",
            "|      Data Scientist|       137-171 |   4.2|Santa Barbara, CA| 51 to 200 employees|   Company - Private|Computer Hardware...|Information Techn...|       CA|         10|     1|    1|      0|       137|       171|         154.0|\n",
            "|Data Scientist / ...|       137-171 |   3.9|    Cambridge, MA|    10000+ employees|    Company - Public|Biotech & Pharmac...|Biotech & Pharmac...|       MA|         24|     1|    0|      0|       137|       171|         154.0|\n",
            "|      Data Scientist|       137-171 |   3.5|      Bedford, MA|1001 to 5000 empl...|    Company - Public|Consumer Electron...|              Retail|       MA|         30|     1|    0|      0|       137|       171|         154.0|\n",
            "|Staff Data Scient...|       137-171 |   4.4|    San Diego, CA|5001 to 10000 emp...|    Company - Public|Computer Hardware...|Information Techn...|       CA|         37|     0|    0|      0|       137|       171|         154.0|\n",
            "|      Data Scientist|       137-171 |   3.6|      Chicago, IL| 51 to 200 employees|   Company - Private|Enterprise Softwa...|Information Techn...|       IL|          6|     1|    0|      0|       137|       171|         154.0|\n",
            "|      Data Scientist|       137-171 |   4.5|      Herndon, VA|501 to 1000 emplo...|   Company - Private|Enterprise Softwa...|Information Techn...|       VA|          8|     1|    0|      0|       137|       171|         154.0|\n",
            "|      Data Scientist|       137-171 |   4.7|  Saint Louis, MO| 51 to 200 employees|   Company - Private|         IT Services|Information Techn...|       MO|          4|     1|    1|      0|       137|       171|         154.0|\n",
            "|Data Scientist - ...|       137-171 |   3.7|     Richland, WA|1001 to 5000 empl...|          Government|              Energy|Oil, Gas, Energy ...|       WA|         55|     0|    0|      0|       137|       171|         154.0|\n",
            "|        Data Modeler|       137-171 |   3.1|   Northbrook, IL|201 to 500 employees|   Company - Private|Chemical Manufact...|       Manufacturing|       IL|         47|     1|    0|      1|       137|       171|         154.0|\n",
            "|      Data Scientist|       137-171 |   3.4|   Washington, DC|1001 to 5000 empl...|   Company - Private|          Consulting|   Business Services|       DC|         34|     1|    0|      0|       137|       171|         154.0|\n",
            "|Experienced Data ...|       137-171 |   4.4|   Washington, DC|   1 to 50 employees|   Company - Private|    Federal Agencies|          Government|       DC|         23|     1|    1|      1|       137|       171|         154.0|\n",
            "|      Data Scientist|       137-171 |   3.5|      Memphis, TN|1001 to 5000 empl...|   Company - Private|Chemical Manufact...|       Manufacturing|       TN|         75|     1|    0|      0|       137|       171|         154.0|\n",
            "|     Data Analyst II|       137-171 |   4.2|        Plano, TX|5001 to 10000 emp...|    Company - Public|Enterprise Softwa...|Information Techn...|       TX|         32|     0|    0|      0|       137|       171|         154.0|\n",
            "|Medical Lab Scien...|       137-171 |   3.5|   West Grove, PA|5001 to 10000 emp...|Nonprofit Organiz...|Health Care Servi...|         Health Care|       PA|          3|     0|    0|      0|       137|       171|         154.0|\n",
            "|      Data Scientist|       137-171 |   3.2|     New York, NY| 51 to 200 employees|   Company - Private|Computer Hardware...|Information Techn...|       NY|          5|     0|    0|      0|       137|       171|         154.0|\n",
            "+--------------------+---------------+------+-----------------+--------------------+--------------------+--------------------+--------------------+---------+-----------+------+-----+-------+----------+----------+--------------+\n",
            "only showing top 20 rows\n",
            "\n"
          ]
        }
      ]
    },
    {
      "cell_type": "code",
      "source": [
        "# Replace -1 and 0 in the Rating column with 1\n",
        "df = df.withColumn(\n",
        "\"Rating\",\n",
        "when((col(\"Rating\") == -1) | (col(\"Rating\") == 0), 1).otherwise(col(\"Rating\"))\n",
        ")"
      ],
      "metadata": {
        "id": "ZZSXL4C86d3s"
      },
      "execution_count": 10,
      "outputs": []
    },
    {
      "cell_type": "code",
      "source": [
        "df_transformed = df.fillna(-1)"
      ],
      "metadata": {
        "id": "LjHljXEL6ohW"
      },
      "execution_count": 11,
      "outputs": []
    },
    {
      "cell_type": "code",
      "source": [
        "df_grouped = df.groupBy(\"Job Title\").agg(\n",
        "avg(\"average_salary\")\n",
        ")\n",
        "# Show the result\n",
        "df_grouped.show()"
      ],
      "metadata": {
        "colab": {
          "base_uri": "https://localhost:8080/"
        },
        "id": "5FGkZCDk6y9Y",
        "outputId": "e76e9abc-85fd-4e11-f26e-2432afdda33b"
      },
      "execution_count": 16,
      "outputs": [
        {
          "output_type": "stream",
          "name": "stdout",
          "text": [
            "+--------------------+-------------------+\n",
            "|           Job Title|avg(average_salary)|\n",
            "+--------------------+-------------------+\n",
            "|Senior Data Scien...|  99.33333333333333|\n",
            "|Clinical Data Ana...|              164.5|\n",
            "|Senior Business I...|               90.0|\n",
            "|Data Analyst/Engi...|              115.5|\n",
            "|Staff BI and Data...|              107.0|\n",
            "|Intelligence Data...|              90.75|\n",
            "|Report Writer-Dat...|               92.5|\n",
            "|Hydrogen/Tritium ...|              148.0|\n",
            "|Business Intellig...|             109.25|\n",
            "|        Data Modeler|              154.0|\n",
            "|Scientist / Group...|              197.5|\n",
            "|Senior Research S...|              105.0|\n",
            "|Software Engineer...|              164.5|\n",
            "|   Sr Data Scientist|             126.75|\n",
            "|COMPUTER SCIENTIS...|              271.5|\n",
            "|Data Scientist/Ma...|              125.5|\n",
            "|Data Scientist - ...|              120.5|\n",
            "|  Decision Scientist|               94.5|\n",
            "|Data Scientist - ...|              97.75|\n",
            "|Data Scientist / ...|              128.5|\n",
            "+--------------------+-------------------+\n",
            "only showing top 20 rows\n",
            "\n"
          ]
        }
      ]
    },
    {
      "cell_type": "code",
      "source": [
        "df_avg_salary_by_size = df_transformed.groupBy(\"Size\").agg(\n",
        "avg(\"average_salary\")\n",
        ")\n",
        "# Show the result\n",
        "df_avg_salary_by_size.show()"
      ],
      "metadata": {
        "colab": {
          "base_uri": "https://localhost:8080/"
        },
        "id": "HZc1xcSx61VC",
        "outputId": "212642f2-7a1a-4010-8233-19ec6ab11576"
      },
      "execution_count": 18,
      "outputs": [
        {
          "output_type": "stream",
          "name": "stdout",
          "text": [
            "+--------------------+-------------------+\n",
            "|                Size|avg(average_salary)|\n",
            "+--------------------+-------------------+\n",
            "|5001 to 10000 emp...|  126.6639344262295|\n",
            "|                NULL|  130.7962962962963|\n",
            "|             Unknown| 143.38235294117646|\n",
            "| 51 to 200 employees|       127.83203125|\n",
            "|1001 to 5000 empl...|  121.7548076923077|\n",
            "|501 to 1000 emplo...| 120.93506493506493|\n",
            "|201 to 500 employees|  119.1987951807229|\n",
            "|    10000+ employees| 122.80379746835443|\n",
            "|   1 to 50 employees|              120.0|\n",
            "+--------------------+-------------------+\n",
            "\n"
          ]
        }
      ]
    },
    {
      "cell_type": "code",
      "source": [],
      "metadata": {
        "id": "UqgNEXUz67MG"
      },
      "execution_count": null,
      "outputs": []
    }
  ]
}